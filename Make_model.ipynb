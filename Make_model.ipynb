{
  "nbformat": 4,
  "nbformat_minor": 0,
  "metadata": {
    "colab": {
      "provenance": [],
      "collapsed_sections": []
    },
    "kernelspec": {
      "name": "python3",
      "display_name": "Python 3"
    },
    "language_info": {
      "name": "python"
    }
  },
  "cells": [
    {
      "cell_type": "code",
      "execution_count": 3,
      "metadata": {
        "id": "r2A2OF5MNBCL",
        "colab": {
          "base_uri": "https://localhost:8080/"
        },
        "outputId": "59975ef2-9a43-450b-e412-9433a2e12fb8"
      },
      "outputs": [
        {
          "output_type": "stream",
          "name": "stdout",
          "text": [
            "Drive already mounted at /content/drive; to attempt to forcibly remount, call drive.mount(\"/content/drive\", force_remount=True).\n"
          ]
        }
      ],
      "source": [
        "import tensorflow as tf\n",
        "import cv2\n",
        "import os\n",
        "import numpy as np\n",
        "import matplotlib.pyplot as plt\n",
        "from google.colab import drive\n",
        "drive.mount(\"/content/drive\")"
      ]
    },
    {
      "cell_type": "markdown",
      "source": [
        "using the famous FER-2013 as dataset to train and test model"
      ],
      "metadata": {
        "id": "rPF00rULNcVq"
      }
    },
    {
      "cell_type": "code",
      "source": [
        "\n",
        "Datadirectory='/content/drive/MyDrive/ML_Project/train/'\n",
        "# path=os.path.join(Datadirectory,\"\")\n",
        "# print(path)\n",
        "Classes=['happy','neutral','sad']\n"
      ],
      "metadata": {
        "id": "YcX6RGSF_25u"
      },
      "execution_count": 4,
      "outputs": []
    },
    {
      "cell_type": "markdown",
      "source": [
        "Changing the size of image from 48X48 to 224X224 to easily put it in the model(now doing it only for whole dataset)"
      ],
      "metadata": {
        "id": "1hCKeyrtBnRS"
      }
    },
    {
      "cell_type": "code",
      "source": [
        "training_data=[]\n",
        "def create_training_data():\n",
        "  for Category in Classes:\n",
        "    path=os.path.join(Datadirectory,Category)\n",
        "    class_num=Classes.index(Category)\n",
        "    for img in os.listdir(path):\n",
        "      img_arr=cv2.imread(os.path.join(path,img))\n",
        "      new_array=cv2.resize(img_arr,(224,224))\n",
        "      training_data.append([new_array,class_num])\n",
        "\n",
        "create_training_data()\n"
      ],
      "metadata": {
        "id": "U8agNhfNBukC"
      },
      "execution_count": 5,
      "outputs": []
    },
    {
      "cell_type": "code",
      "source": [
        "import random\n",
        "random.shuffle(training_data)\n",
        "X=[]\n",
        "Y=[]\n",
        "for features,label in training_data:\n",
        "  X.append(features)\n",
        "  Y.append(label)\n",
        "X=np.array(X).reshape(-1,224,224,3) #changing dimensions to properly allow model to work\n",
        "\n"
      ],
      "metadata": {
        "id": "P6tkvPPTqRyX"
      },
      "execution_count": 6,
      "outputs": []
    },
    {
      "cell_type": "code",
      "source": [
        "X=X/255 #normalizing data"
      ],
      "metadata": {
        "id": "3HqYmvHItdhx"
      },
      "execution_count": 7,
      "outputs": []
    },
    {
      "cell_type": "code",
      "source": [
        "print(len(X),len(X[0]),len(X[0][0]),(X[0][0][0]))"
      ],
      "metadata": {
        "colab": {
          "base_uri": "https://localhost:8080/"
        },
        "id": "SHjqwEr6MtOv",
        "outputId": "e3e1beff-8d8a-4a76-e75d-7d36e8eb8c27"
      },
      "execution_count": 8,
      "outputs": [
        {
          "output_type": "stream",
          "name": "stdout",
          "text": [
            "2400 224 224 [0.88235294 0.88235294 0.88235294]\n"
          ]
        }
      ]
    },
    {
      "cell_type": "code",
      "source": [
        "import tensorflow as tf\n",
        "from tensorflow import keras\n",
        "from tensorflow.keras import layers\n",
        "model=tf.keras.applications.MobileNetV2() #use MobileNetV2 archutecture pre-training model, as it being light weight we can use it for live demo\n",
        "\n"
      ],
      "metadata": {
        "id": "j7CqRa_9EoT4",
        "colab": {
          "base_uri": "https://localhost:8080/"
        },
        "outputId": "ce4ce80c-bcea-4860-e2a4-b1feb6f3bdae"
      },
      "execution_count": 9,
      "outputs": [
        {
          "output_type": "stream",
          "name": "stdout",
          "text": [
            "Downloading data from https://storage.googleapis.com/tensorflow/keras-applications/mobilenet_v2/mobilenet_v2_weights_tf_dim_ordering_tf_kernels_1.0_224.h5\n",
            "14536120/14536120 [==============================] - 0s 0us/step\n"
          ]
        }
      ]
    },
    {
      "cell_type": "markdown",
      "source": [
        "Doing transfer learning to make the model learn classes from last step, and hence we won't have to train the whole model from start, and we can use the already existing weights and biases"
      ],
      "metadata": {
        "id": "9-5tNW-YFUGs"
      }
    },
    {
      "cell_type": "code",
      "source": [
        "base_input=model.layers[0].input\n",
        "base_output=model.layers[-2].output #removes the last layer\n",
        "\n",
        "#  Adding more layers at end of model to perform classification of classes\n",
        "final_output=layers.Dense(128)(base_output)\n",
        "final_output=layers.Activation('relu')(final_output)\n",
        "final_output=layers.Dense(64)(final_output)\n",
        "final_output=layers.Activation('relu')(final_output)\n",
        "final_output=layers.Dense(3,activation='softmax')(final_output)"
      ],
      "metadata": {
        "id": "Jnv9m56oGlDk"
      },
      "execution_count": 10,
      "outputs": []
    },
    {
      "cell_type": "code",
      "source": [
        "X=np.array(X)\n",
        "Y=np.array(Y)"
      ],
      "metadata": {
        "id": "-nK-wIgPZKQh"
      },
      "execution_count": 11,
      "outputs": []
    },
    {
      "cell_type": "code",
      "source": [
        "new_model=keras.Model(inputs=base_input,outputs=final_output)\n",
        "for layer in new_model.layers[:-4]:\n",
        "    layer.trainable = False\n",
        "new_model.compile(loss=\"sparse_categorical_crossentropy\", optimizer=\"adam\", metrics=[\"accuracy\"])\n",
        "new_model.fit(X,Y,epochs=100) \n"
      ],
      "metadata": {
        "id": "NSBVINhMHTtk"
      },
      "execution_count": null,
      "outputs": []
    },
    {
      "cell_type": "code",
      "source": [
        "new_model.save('model.h5')"
      ],
      "metadata": {
        "id": "H5BxkmdisApr"
      },
      "execution_count": null,
      "outputs": []
    },
    {
      "cell_type": "code",
      "source": [
        "model=tf.keras.models.load_model('/content/model.h5')"
      ],
      "metadata": {
        "id": "u5ptc-1VGxym"
      },
      "execution_count": null,
      "outputs": []
    },
    {
      "cell_type": "code",
      "source": [
        "img_1=cv2.imread(\"/content/drive/MyDrive/ML_Project/train/angry/Training_20748658.jpg\")\n",
        "img_1=cv2.resize(img_1,(224,224))\n",
        "img_1=np.array(img_1).reshape(-1,224,224,3)\n",
        "print(img_1.shape)\n"
      ],
      "metadata": {
        "colab": {
          "base_uri": "https://localhost:8080/"
        },
        "id": "myMXCtzT7kRQ",
        "outputId": "8af08fcc-df26-41ef-c950-5dd8cdb591ab"
      },
      "execution_count": null,
      "outputs": [
        {
          "output_type": "stream",
          "name": "stdout",
          "text": [
            "(1, 224, 224, 3)\n"
          ]
        }
      ]
    },
    {
      "cell_type": "code",
      "source": [
        "import pandas as pd\n",
        "predicted = pd.DataFrame()\n",
        "predicted_1=model.predict(img_1)\n",
        "predicted[\"happy\"]=predicted_1[:,0]\n",
        "predicted[\"neutral\"]=predicted_1[:,1]\n",
        "predicted[\"sad\"]=predicted_1[:,2]\n",
        "predicted.head()"
      ],
      "metadata": {
        "id": "-byCsaosO0cV"
      },
      "execution_count": null,
      "outputs": []
    }
  ]
}